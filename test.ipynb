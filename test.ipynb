{
 "cells": [
  {
   "cell_type": "code",
   "execution_count": 6,
   "metadata": {},
   "outputs": [],
   "source": [
    "from math import sqrt\n",
    "from sklearn.model_selection import train_test_split\n",
    "from sklearn.preprocessing import StandardScaler\n",
    "from sklearn.preprocessing import LabelEncoder\n",
    "from sklearn.decomposition import PCA\n",
    "from sklearn.model_selection import GridSearchCV\n",
    "from sklearn.pipeline import Pipeline\n",
    "from sklearn.metrics import mean_squared_error\n",
    "from  sklearn.linear_model import Lasso\n",
    "import pandas as pd\n",
    "import numpy as np\n",
    "import xgboost as xgb\n",
    "import pickle\n",
    "import os\n",
    "import string\n",
    "import bisect\n",
    "import warnings\n",
    "import re\n",
    "\n",
    "df = pd.read_csv('api/lib/data/train.csv')\n",
    "# print(df.shape)\n",
    "# print(df.head(5))\n",
    "df.describe()\n",
    "df_na = df.isna().sum().to_frame().reset_index()\n",
    "df_na.columns = [\"Column Name\", \"Null Count\"]\n",
    "df_na[\"Null Percentage\"] = round((df_na[\"Null Count\"] / len(df))*100, 2)\n",
    "df_na.to_csv('testNa.csv')"
   ]
  }
 ],
 "metadata": {
  "kernelspec": {
   "display_name": "SE_411",
   "language": "python",
   "name": "python3"
  },
  "language_info": {
   "codemirror_mode": {
    "name": "ipython",
    "version": 3
   },
   "file_extension": ".py",
   "mimetype": "text/x-python",
   "name": "python",
   "nbconvert_exporter": "python",
   "pygments_lexer": "ipython3",
   "version": "3.10.11"
  }
 },
 "nbformat": 4,
 "nbformat_minor": 2
}
